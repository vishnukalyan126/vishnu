{
 "cells": [
  {
   "cell_type": "markdown",
   "metadata": {},
   "source": [
    "### Day objectives\n",
    "- loop examples\n",
    "- fuctions(user defined functions)\n",
    "- list, tuples and string"
   ]
  },
  {
   "cell_type": "code",
   "execution_count": 1,
   "metadata": {},
   "outputs": [],
   "source": [
    "# read the number as input\n",
    "# print the output as digits of the number\n",
    "# test cases:-\n",
    "# 145 -- 5 4 1\n",
    "# 123 -- 1 2 3"
   ]
  },
  {
   "cell_type": "code",
   "execution_count": 2,
   "metadata": {},
   "outputs": [
    {
     "ename": "SyntaxError",
     "evalue": "invalid syntax (<ipython-input-2-ca4a97f92602>, line 3)",
     "output_type": "error",
     "traceback": [
      "\u001b[1;36m  File \u001b[1;32m\"<ipython-input-2-ca4a97f92602>\"\u001b[1;36m, line \u001b[1;32m3\u001b[0m\n\u001b[1;33m    r= n%10:\u001b[0m\n\u001b[1;37m           ^\u001b[0m\n\u001b[1;31mSyntaxError\u001b[0m\u001b[1;31m:\u001b[0m invalid syntax\n"
     ]
    }
   ],
   "source": [
    "n=int(input('enter the number'))\n",
    "while n!= 0:\n",
    "    r= n%10:\n",
    "    print(r,end =' ')\n",
    "    n= n//10\n",
    "    "
   ]
  },
  {
   "cell_type": "markdown",
   "metadata": {},
   "source": [
    "### fuctions in programming\n",
    "- program will be divided into subparts\n",
    "- it makes reuse of the code\n",
    "- fuction makes the program more easier"
   ]
  },
  {
   "cell_type": "markdown",
   "metadata": {},
   "source": [
    "### function in programming\n",
    "- def is keyword which is used to define a function\n",
    "- fuction name foolows camel name always\n",
    "  - fun() ispalindrome() ispalindromecheck()\n",
    "     - defination of a function can be anything for the given requirement\n",
    "- def functionname()\n",
    "- statements\n",
    "- return"
   ]
  },
  {
   "cell_type": "code",
   "execution_count": null,
   "metadata": {},
   "outputs": [],
   "source": [
    "# read the input as a numer\n",
    "# print the output as large digit of the given number\n",
    "# 753124 -- 7"
   ]
  },
  {
   "cell_type": "code",
   "execution_count": null,
   "metadata": {},
   "outputs": [],
   "source": [
    "def sumofdigits(n):\n",
    "    s=0\n",
    "    while n>=0:\n",
    "        r=n%10\n",
    "        s=s+r\n",
    "        n=n//10\n",
    "    return s\n",
    "n= int(input('enter the variables'))\n",
    "sumofdigits(n)"
   ]
  },
  {
   "cell_type": "markdown",
   "metadata": {},
   "source": [
    "## question\n",
    " - read the input\n",
    " - print the output as palindrome\n",
    " - check whether input is palindrome or not"
   ]
  },
  {
   "cell_type": "code",
   "execution_count": null,
   "metadata": {},
   "outputs": [],
   "source": []
  },
  {
   "cell_type": "code",
   "execution_count": 1,
   "metadata": {},
   "outputs": [
    {
     "name": "stdout",
     "output_type": "stream",
     "text": [
      "enter the variable121\n",
      "Palindrome\n"
     ]
    },
    {
     "data": {
      "text/plain": [
       "0"
      ]
     },
     "execution_count": 1,
     "metadata": {},
     "output_type": "execute_result"
    }
   ],
   "source": [
    "def Palindrome(n):\n",
    "    s=0\n",
    "    p=n\n",
    "    while n!=0:\n",
    "        r=n%10\n",
    "        s=s*10+r\n",
    "        n=n//10\n",
    "    if s==p:\n",
    "        print(\"Palindrome\")\n",
    "    else:\n",
    "        print(\"NotPalindrome\")     \n",
    "    return n\n",
    "n=int(input('enter the variable'))\n",
    "Palindrome(n)"
   ]
  },
  {
   "cell_type": "code",
   "execution_count": 2,
   "metadata": {},
   "outputs": [],
   "source": [
    "\n",
    "# read the number as input\n",
    "# print the large digit from last three position of the number\n",
    "# test cases:-\n",
    "# 59852 -- 8\n",
    "# 175215 --5"
   ]
  },
  {
   "cell_type": "code",
   "execution_count": null,
   "metadata": {},
   "outputs": [
    {
     "name": "stdout",
     "output_type": "stream",
     "text": [
      "enter the variables175215\n"
     ]
    }
   ],
   "source": [
    "def Largedigit(n):\n",
    "    i=1\n",
    "    large=0\n",
    "    while (i!=3):\n",
    "        i=i+1\n",
    "        r=n%10\n",
    "        if large<r:\n",
    "            large=r\n",
    "            n=n//10\n",
    "    return n\n",
    "n=int(input('enter the variables'))\n",
    "Largedigit(n)"
   ]
  },
  {
   "cell_type": "markdown",
   "metadata": {},
   "source": [
    "### data structures of python"
   ]
  },
  {
   "cell_type": "code",
   "execution_count": null,
   "metadata": {},
   "outputs": [],
   "source": []
  },
  {
   "cell_type": "code",
   "execution_count": null,
   "metadata": {},
   "outputs": [],
   "source": []
  }
 ],
 "metadata": {
  "kernelspec": {
   "display_name": "Python 3",
   "language": "python",
   "name": "python3"
  }
 },
 "nbformat": 4,
 "nbformat_minor": 2
}
