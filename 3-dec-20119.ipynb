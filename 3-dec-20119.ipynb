{
 "cells": [
  {
   "cell_type": "code",
   "execution_count": 1,
   "metadata": {},
   "outputs": [
    {
     "name": "stdout",
     "output_type": "stream",
     "text": [
      "121111111111888\n",
      "<class 'int'>\n"
     ]
    }
   ],
   "source": [
    "x=121111111111888\n",
    "print(x)\n",
    "print(type(x))"
   ]
  },
  {
   "cell_type": "code",
   "execution_count": 2,
   "metadata": {},
   "outputs": [
    {
     "name": "stdout",
     "output_type": "stream",
     "text": [
      "welcome to the program\n",
      "cartoon\n",
      "<class 'str'>\n",
      "<class 'str'>\n"
     ]
    }
   ],
   "source": [
    "s=\"welcome to the program\"\n",
    "s1='cartoon'\n",
    "print(s)\n",
    "print(s1)\n",
    "print(type(s))\n",
    "print(type(s))"
   ]
  },
  {
   "cell_type": "code",
   "execution_count": 5,
   "metadata": {},
   "outputs": [
    {
     "ename": "IndentationError",
     "evalue": "unexpected indent (<ipython-input-5-ecc0e0d6832d>, line 3)",
     "output_type": "error",
     "traceback": [
      "\u001b[1;36m  File \u001b[1;32m\"<ipython-input-5-ecc0e0d6832d>\"\u001b[1;36m, line \u001b[1;32m3\u001b[0m\n\u001b[1;33m    * int()converts the input into int class\u001b[0m\n\u001b[1;37m    ^\u001b[0m\n\u001b[1;31mIndentationError\u001b[0m\u001b[1;31m:\u001b[0m unexpected indent\n"
     ]
    }
   ],
   "source": [
    "### datatype conversions\n",
    "* int()\n",
    "   * int()converts the input into int class\n",
    "* str()\n",
    "   * str()converts the input into string class\n",
    "* float()\n",
    "   * float()converts the input into float class"
   ]
  },
  {
   "cell_type": "code",
   "execution_count": 6,
   "metadata": {},
   "outputs": [
    {
     "name": "stdout",
     "output_type": "stream",
     "text": [
      "12.59\n",
      "<class 'float'>\n",
      "12\n",
      "<class 'int'>\n"
     ]
    }
   ],
   "source": [
    "f=12.59\n",
    "print(f)\n",
    "print(type(f))\n",
    "x=int(f)\n",
    "print(x)\n",
    "print(type(x))"
   ]
  },
  {
   "cell_type": "code",
   "execution_count": 7,
   "metadata": {},
   "outputs": [
    {
     "name": "stdout",
     "output_type": "stream",
     "text": [
      "18.45 <class 'float'>\n",
      "18.45 <class 'float'>\n",
      "18 <class 'int'>\n"
     ]
    }
   ],
   "source": [
    "x=18.45\n",
    "print(x,end =' ')\n",
    "print(type(x))\n",
    "a=float(x)\n",
    "print(a,end =' ')\n",
    "print(type(a))\n",
    "b=int(x)\n",
    "print(b, end =' ')\n",
    "print(type(b))"
   ]
  },
  {
   "cell_type": "markdown",
   "metadata": {},
   "source": [
    "### contrl flow statements\n",
    " - control statements\n",
    "   - if else\n",
    " - looping statements\n",
    "   - while\n",
    "   - for"
   ]
  },
  {
   "cell_type": "code",
   "execution_count": 12,
   "metadata": {},
   "outputs": [
    {
     "name": "stdout",
     "output_type": "stream",
     "text": [
      "enter the number 11\n",
      "number is odd\n"
     ]
    }
   ],
   "source": [
    "x=int(input('enter the number '))\n",
    "if x% 2==0:\n",
    "    print('number is even')\n",
    "else:\n",
    "    print('number is odd')"
   ]
  },
  {
   "cell_type": "code",
   "execution_count": 13,
   "metadata": {},
   "outputs": [],
   "source": [
    "# read the age of the person as input\n",
    "# print the output as whether he is eligiable or not\n",
    "# eligible range 18-85"
   ]
  },
  {
   "cell_type": "code",
   "execution_count": 16,
   "metadata": {},
   "outputs": [
    {
     "name": "stdout",
     "output_type": "stream",
     "text": [
      "enter the age66\n",
      "eligiable age\n"
     ]
    }
   ],
   "source": [
    "x=int(input('enter the age'))\n",
    "if x>18:\n",
    "    print('eligiable age')\n",
    "else:\n",
    "    if x<85:\n",
    "        print('not eligiable')"
   ]
  },
  {
   "cell_type": "code",
   "execution_count": 21,
   "metadata": {},
   "outputs": [
    {
     "name": "stdout",
     "output_type": "stream",
     "text": [
      "13\n",
      "3.3333333333333335\n",
      "3\n",
      "100\n",
      "10000000000\n",
      "1\n"
     ]
    }
   ],
   "source": [
    "# and,or, true (or) false\n",
    "a=10\n",
    "b=3\n",
    "print(a+b)\n",
    "print(a/b) # division but output is decimal value\n",
    "print(a//b) # division but output is only int value\n",
    "print(a*10) # modular division output reminder\n",
    "print(a**10) # multiplication\n",
    "print(a%b)   # power"
   ]
  },
  {
   "cell_type": "code",
   "execution_count": 24,
   "metadata": {},
   "outputs": [
    {
     "name": "stdout",
     "output_type": "stream",
     "text": [
      "hello\n"
     ]
    }
   ],
   "source": [
    "if True:\n",
    "    print(\"hello\")\n",
    "else:\n",
    "    print(\"bye\")"
   ]
  },
  {
   "cell_type": "code",
   "execution_count": 25,
   "metadata": {},
   "outputs": [],
   "source": [
    "# read the input as two number\n",
    "# if the first number is greater than second number then the\n",
    "# square of second number and vice versa"
   ]
  },
  {
   "cell_type": "code",
   "execution_count": 28,
   "metadata": {},
   "outputs": [
    {
     "name": "stdout",
     "output_type": "stream",
     "text": [
      "enter the first number6\n",
      "enter the second number8\n",
      "9\n"
     ]
    }
   ],
   "source": [
    "x1=int(input('enter the first number'))\n",
    "x2=int(input('enter the second number'))\n",
    "if a>b:\n",
    "    print(b*b)\n",
    "else:\n",
    "    print(a*a)\n",
    "\n",
    "    "
   ]
  },
  {
   "cell_type": "code",
   "execution_count": 29,
   "metadata": {},
   "outputs": [],
   "source": [
    "# read the number as input\n",
    "# give the output as negitive , positive or zero"
   ]
  },
  {
   "cell_type": "code",
   "execution_count": 37,
   "metadata": {},
   "outputs": [
    {
     "name": "stdout",
     "output_type": "stream",
     "text": [
      "enter the number-12\n",
      "number is negitive\n"
     ]
    }
   ],
   "source": [
    "x=int(input('enter the number'))\n",
    "if x<0:\n",
    "    print('number is negitive')\n",
    "elif x>0:\n",
    "    print('number is positive')\n",
    "else:\n",
    "    print('0')"
   ]
  },
  {
   "cell_type": "code",
   "execution_count": 38,
   "metadata": {},
   "outputs": [
    {
     "name": "stdout",
     "output_type": "stream",
     "text": [
      "better\n"
     ]
    }
   ],
   "source": [
    "a=200\n",
    "if a>20:\n",
    "    print(\"better\")\n",
    "elif a>40:\n",
    "    print(\"best\")\n",
    "elif a>60:\n",
    "    print(\"excillent\")\n",
    "else:\n",
    "    print(\"nothing\")"
   ]
  },
  {
   "cell_type": "code",
   "execution_count": 39,
   "metadata": {},
   "outputs": [],
   "source": [
    "# ++ and -- symbols not work in python programming\n",
    "# while boolean condition:\n",
    "# statements"
   ]
  },
  {
   "cell_type": "code",
   "execution_count": 41,
   "metadata": {},
   "outputs": [
    {
     "name": "stdout",
     "output_type": "stream",
     "text": [
      "1 2 3 4 5 6 7 8 9 10 "
     ]
    }
   ],
   "source": [
    "# print the number from 1 to 10\n",
    "a= 1\n",
    "while a<=10:\n",
    "    print(a,end=' ')\n",
    "    a= a+1 # a += 1"
   ]
  },
  {
   "cell_type": "code",
   "execution_count": 42,
   "metadata": {},
   "outputs": [],
   "source": [
    "# read the n as input\n",
    "# print the sum of n natural numbers\n",
    "# 5-- 15(1+2+3+4+5)"
   ]
  },
  {
   "cell_type": "code",
   "execution_count": null,
   "metadata": {},
   "outputs": [],
   "source": [
    "n=int(input(\"enter the values\"))\n",
    "a=0\n",
    "sum=0\n",
    "while sum<=n+1:\n",
    "    a=a+sum\n",
    "    sum= sum+1\n",
    "print(sum)    \n"
   ]
  },
  {
   "cell_type": "code",
   "execution_count": 1,
   "metadata": {},
   "outputs": [
    {
     "name": "stdout",
     "output_type": "stream",
     "text": [
      "enter the values10\n",
      "2 4 6 8 10 "
     ]
    }
   ],
   "source": [
    "n=int(input(\"enter the values\"))\n",
    "a=1\n",
    "while a<=n:\n",
    "    if a%2==0:\n",
    "        print(a,end=' ')\n",
    "    a+=1\n",
    "\n"
   ]
  },
  {
   "cell_type": "code",
   "execution_count": 3,
   "metadata": {},
   "outputs": [
    {
     "name": "stdout",
     "output_type": "stream",
     "text": [
      "enter the values6\n",
      "1 2 3 6 "
     ]
    }
   ],
   "source": [
    "n=int(input('enter the values'))\n",
    "a=1\n",
    "while a<=n:\n",
    "    if n%a==0:\n",
    "        print(a,end=' ')\n",
    "    a+=1    "
   ]
  },
  {
   "cell_type": "code",
   "execution_count": null,
   "metadata": {},
   "outputs": [],
   "source": []
  }
 ],
 "metadata": {
  "kernelspec": {
   "display_name": "Python 3",
   "language": "python",
   "name": "python3"
  },
  "language_info": {
   "codemirror_mode": {
    "name": "ipython",
    "version": 3
   },
   "file_extension": ".py",
   "mimetype": "text/x-python",
   "name": "python",
   "nbconvert_exporter": "python",
   "pygments_lexer": "ipython3",
   "version": "3.7.4"
  }
 },
 "nbformat": 4,
 "nbformat_minor": 2
}
